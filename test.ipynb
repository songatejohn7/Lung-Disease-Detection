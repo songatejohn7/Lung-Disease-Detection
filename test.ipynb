{
 "cells": [
  {
   "cell_type": "code",
   "execution_count": 2,
   "metadata": {},
   "outputs": [],
   "source": [
    "import pandas as pd \n",
    "import numpy as np\n",
    "import cv2\n",
    "import os\n",
    "import glob\n",
    "import matplotlib.pyplot as plt\n",
    "from sklearn.preprocessing import LabelEncoder\n",
    "from sklearn.model_selection import train_test_split\n",
    "from tensorflow.keras.utils import to_categorical\n",
    "from tensorflow.keras.preprocessing.image import ImageDataGenerator\n",
    "from tensorflow.keras.callbacks import EarlyStopping\n",
    "from sklearn.metrics import classification_report\n",
    "from tensorflow.keras.applications import ResNet50, VGG16\n",
    "from tensorflow.keras.models import Sequential\n",
    "from tensorflow.keras.layers import Conv2D, MaxPooling2D, Flatten, Dense, Dropout\n",
    "from tensorflow.keras.optimizers import Adam"
   ]
  },
  {
   "cell_type": "code",
   "execution_count": 3,
   "metadata": {},
   "outputs": [],
   "source": [
    "file_path = \"/Users/johnson/Documents/Lung_Disease/dataset\"\n",
    "name_class = os.listdir(file_path)\n",
    "filepaths = list(glob.glob(file_path+'/**/*.*'))\n",
    "labels = list(map(lambda x: os.path.split(os.path.split(x)[0])[1],filepaths))\n",
    "filepath = pd.Series(filepaths, name='Filepath').astype(str)\n",
    "labels = pd.Series(labels, name='Label')\n",
    "data = pd.concat([filepath, labels], axis=1)\n",
    "data = data.sample(frac=1).reset_index(drop=True)\n",
    "\n",
    "#Splitting the dataset into training and testing sets\n",
    "train, test = train_test_split(data, test_size=0.25, random_state=42)\n",
    "\n",
    "#Loading the label encoder\n",
    "label_encoder = LabelEncoder()\n",
    "label_encoder.fit(train['Label'])\n",
    "\n",
    "\n",
    "test['Label']= test['Label'].astype(str)"
   ]
  },
  {
   "cell_type": "code",
   "execution_count": 4,
   "metadata": {},
   "outputs": [
    {
     "name": "stdout",
     "output_type": "stream",
     "text": [
      "Found 5609 validated image filenames belonging to 4 classes.\n",
      "Found 1870 validated image filenames belonging to 4 classes.\n"
     ]
    }
   ],
   "source": [
    "#Data augmentation for training data\n",
    "train_datagen = ImageDataGenerator(\n",
    "    rescale=1.0/255,\n",
    "    rotation_range=20,\n",
    "    width_shift_range=0.2,\n",
    "    height_shift_range=0.2,\n",
    "    horizontal_flip=True,\n",
    "    fill_mode='nearest'\n",
    ")\n",
    "\n",
    "#Data augmentation for testing\n",
    "test_datagen = ImageDataGenerator(rescale=1.0/255)\n",
    "\n",
    "train_gen = train_datagen.flow_from_dataframe(\n",
    "    train,\n",
    "    x_col='Filepath',\n",
    "    y_col='Label',\n",
    "    target_size=(100, 100),\n",
    "    batch_size=32,\n",
    "    class_mode='categorical'\n",
    ")\n",
    "\n",
    "test_gen = test_datagen.flow_from_dataframe(\n",
    "    test,\n",
    "    x_col='Filepath',\n",
    "    y_col='Label',\n",
    "    target_size=(100, 100),\n",
    "    batch_size=32,\n",
    "    class_mode='categorical'\n",
    ")\n",
    "\n",
    "#Encode the labels for training\n",
    "label_encoder = LabelEncoder()\n",
    "train_gen.classes = label_encoder.fit_transform(train_gen.classes)\n",
    "test_gen.classes = label_encoder.transform(test_gen.classes)"
   ]
  },
  {
   "cell_type": "code",
   "execution_count": 5,
   "metadata": {},
   "outputs": [
    {
     "name": "stderr",
     "output_type": "stream",
     "text": [
      "/Library/Frameworks/Python.framework/Versions/3.10/lib/python3.10/site-packages/keras/src/layers/convolutional/base_conv.py:99: UserWarning: Do not pass an `input_shape`/`input_dim` argument to a layer. When using Sequential models, prefer using an `Input(shape)` object as the first layer in the model instead.\n",
      "  super().__init__(\n"
     ]
    },
    {
     "name": "stdout",
     "output_type": "stream",
     "text": [
      "Epoch 1/10\n"
     ]
    },
    {
     "name": "stderr",
     "output_type": "stream",
     "text": [
      "/Library/Frameworks/Python.framework/Versions/3.10/lib/python3.10/site-packages/keras/src/trainers/data_adapters/py_dataset_adapter.py:120: UserWarning: Your `PyDataset` class should call `super().__init__(**kwargs)` in its constructor. `**kwargs` can include `workers`, `use_multiprocessing`, `max_queue_size`. Do not pass these arguments to `fit()`, as they will be ignored.\n",
      "  self._warn_if_super_not_called()\n"
     ]
    },
    {
     "name": "stdout",
     "output_type": "stream",
     "text": [
      "\u001b[1m176/176\u001b[0m \u001b[32m━━━━━━━━━━━━━━━━━━━━\u001b[0m\u001b[37m\u001b[0m \u001b[1m252s\u001b[0m 1s/step - accuracy: 0.6036 - loss: 1.0106 - val_accuracy: 0.8604 - val_loss: 0.3638\n",
      "Epoch 2/10\n",
      "\u001b[1m176/176\u001b[0m \u001b[32m━━━━━━━━━━━━━━━━━━━━\u001b[0m\u001b[37m\u001b[0m \u001b[1m267s\u001b[0m 1s/step - accuracy: 0.8121 - loss: 0.4804 - val_accuracy: 0.8898 - val_loss: 0.3118\n",
      "Epoch 3/10\n",
      "\u001b[1m176/176\u001b[0m \u001b[32m━━━━━━━━━━━━━━━━━━━━\u001b[0m\u001b[37m\u001b[0m \u001b[1m238s\u001b[0m 1s/step - accuracy: 0.8198 - loss: 0.4596 - val_accuracy: 0.8765 - val_loss: 0.3205\n",
      "Epoch 4/10\n",
      "\u001b[1m176/176\u001b[0m \u001b[32m━━━━━━━━━━━━━━━━━━━━\u001b[0m\u001b[37m\u001b[0m \u001b[1m452s\u001b[0m 3s/step - accuracy: 0.8374 - loss: 0.4164 - val_accuracy: 0.8535 - val_loss: 0.4116\n"
     ]
    }
   ],
   "source": [
    "# Define and compile the CNN Model\n",
    "cnn_model = Sequential([\n",
    "    Conv2D(64, (3, 3), activation='relu', input_shape=(100, 100, 3)),\n",
    "    MaxPooling2D((2, 2)),\n",
    "    Conv2D(128, (3, 3), activation='relu'),\n",
    "    MaxPooling2D((2, 2)),\n",
    "    Flatten(),\n",
    "    Dense(len(label_encoder.classes_), activation='softmax')\n",
    "])\n",
    "\n",
    "cnn_model.compile(\n",
    "    optimizer=Adam(learning_rate=0.001),\n",
    "    loss='categorical_crossentropy',\n",
    "    metrics=['accuracy']\n",
    "    \n",
    ")\n",
    "\n",
    "#Train the CNN model\n",
    "cnn_history = cnn_model.fit(\n",
    "    train_gen,\n",
    "    epochs=10,\n",
    "    validation_data=test_gen,\n",
    "    callbacks=[EarlyStopping(monitor='val_accuracy', min_delta=0, patience=2, mode='auto')]\n",
    ")"
   ]
  },
  {
   "cell_type": "code",
   "execution_count": 6,
   "metadata": {},
   "outputs": [],
   "source": [
    "#Define and compile the ResNet model\n",
    "resnet_model = ResNet50(\n",
    "    input_shape=(100, 100, 3),\n",
    "    include_top=False,\n",
    "    weights='imagenet',\n",
    "    pooling='avg'\n",
    ")\n",
    "\n",
    "for layer in resnet_model.layers:\n",
    "    layer.trainable = False\n",
    "\n",
    "resnet_model.layers[-1].trainable = True \n",
    "\n",
    "resnet_model = Sequential([resnet_model, Dense(len(label_encoder.classes_), activation='softmax')])\n",
    "\n",
    "resnet_model.compile(\n",
    "    optimizer=Adam(learning_rate=0.001),\n",
    "    loss='categorical_crossentropy',\n",
    "    metrics=['accuracy']\n",
    ")\n"
   ]
  },
  {
   "cell_type": "code",
   "execution_count": 7,
   "metadata": {},
   "outputs": [
    {
     "name": "stdout",
     "output_type": "stream",
     "text": [
      "Epoch 1/10\n",
      "\u001b[1m176/176\u001b[0m \u001b[32m━━━━━━━━━━━━━━━━━━━━\u001b[0m\u001b[37m\u001b[0m \u001b[1m288s\u001b[0m 2s/step - accuracy: 0.5315 - loss: 1.1586 - val_accuracy: 0.5947 - val_loss: 1.0194\n",
      "Epoch 2/10\n",
      "\u001b[1m176/176\u001b[0m \u001b[32m━━━━━━━━━━━━━━━━━━━━\u001b[0m\u001b[37m\u001b[0m \u001b[1m278s\u001b[0m 2s/step - accuracy: 0.6213 - loss: 1.0089 - val_accuracy: 0.6235 - val_loss: 0.9614\n",
      "Epoch 3/10\n",
      "\u001b[1m176/176\u001b[0m \u001b[32m━━━━━━━━━━━━━━━━━━━━\u001b[0m\u001b[37m\u001b[0m \u001b[1m281s\u001b[0m 2s/step - accuracy: 0.6378 - loss: 0.9355 - val_accuracy: 0.6358 - val_loss: 0.8685\n",
      "Epoch 4/10\n",
      "\u001b[1m176/176\u001b[0m \u001b[32m━━━━━━━━━━━━━━━━━━━━\u001b[0m\u001b[37m\u001b[0m \u001b[1m281s\u001b[0m 2s/step - accuracy: 0.6472 - loss: 0.9118 - val_accuracy: 0.6460 - val_loss: 0.8483\n",
      "Epoch 5/10\n",
      "\u001b[1m176/176\u001b[0m \u001b[32m━━━━━━━━━━━━━━━━━━━━\u001b[0m\u001b[37m\u001b[0m \u001b[1m2552s\u001b[0m 15s/step - accuracy: 0.6537 - loss: 0.8786 - val_accuracy: 0.6422 - val_loss: 0.8179\n",
      "Epoch 6/10\n",
      "\u001b[1m176/176\u001b[0m \u001b[32m━━━━━━━━━━━━━━━━━━━━\u001b[0m\u001b[37m\u001b[0m \u001b[1m319s\u001b[0m 2s/step - accuracy: 0.6575 - loss: 0.8609 - val_accuracy: 0.6460 - val_loss: 0.8119\n"
     ]
    }
   ],
   "source": [
    "import ssl\n",
    "ssl._create_default_https_context = ssl._create_unverified_context\n",
    "\n",
    "#Train the ResNet model\n",
    "resnet_history = resnet_model.fit(\n",
    "    train_gen,\n",
    "    epochs=10,\n",
    "    validation_data=test_gen,\n",
    "    callbacks=[EarlyStopping(monitor='val_accuracy', min_delta=0, patience=2, mode='auto')]\n",
    ")\n",
    "\n",
    "#Define and compile the VGG model\n",
    "vgg_model = VGG16(\n",
    "    input_shape=(100, 100, 3),\n",
    "    include_top=False,\n",
    "    weights='imagenet',\n",
    "    pooling='avg'\n",
    ") \n",
    "\n",
    "for layer in vgg_model.layers:\n",
    "    layer.trainable = False\n",
    "\n",
    "\n",
    "vgg_model.layers[-1].trainable = True\n",
    "\n",
    "vgg_model = Sequential([vgg_model, Dense(len(label_encoder.classes_), activation='softmax')])\n",
    "\n",
    "vgg_model.compile(\n",
    "    optimizer=Adam(learning_rate=0.001),\n",
    "    loss='categorical_crossentropy',\n",
    "    metrics=['accuracy']\n",
    ")"
   ]
  },
  {
   "cell_type": "code",
   "execution_count": 8,
   "metadata": {},
   "outputs": [
    {
     "name": "stdout",
     "output_type": "stream",
     "text": [
      "Epoch 1/10\n",
      "\u001b[1m176/176\u001b[0m \u001b[32m━━━━━━━━━━━━━━━━━━━━\u001b[0m\u001b[37m\u001b[0m \u001b[1m2444s\u001b[0m 14s/step - accuracy: 0.4912 - loss: 1.2076 - val_accuracy: 0.6914 - val_loss: 0.7848\n",
      "Epoch 2/10\n",
      "\u001b[1m176/176\u001b[0m \u001b[32m━━━━━━━━━━━━━━━━━━━━\u001b[0m\u001b[37m\u001b[0m \u001b[1m27911s\u001b[0m 159s/step - accuracy: 0.7289 - loss: 0.7538 - val_accuracy: 0.8262 - val_loss: 0.5944\n",
      "Epoch 3/10\n",
      "\u001b[1m176/176\u001b[0m \u001b[32m━━━━━━━━━━━━━━━━━━━━\u001b[0m\u001b[37m\u001b[0m \u001b[1m603s\u001b[0m 3s/step - accuracy: 0.7875 - loss: 0.6051 - val_accuracy: 0.8428 - val_loss: 0.5089\n",
      "Epoch 4/10\n",
      "\u001b[1m176/176\u001b[0m \u001b[32m━━━━━━━━━━━━━━━━━━━━\u001b[0m\u001b[37m\u001b[0m \u001b[1m629s\u001b[0m 4s/step - accuracy: 0.8105 - loss: 0.5421 - val_accuracy: 0.8513 - val_loss: 0.4587\n",
      "Epoch 5/10\n",
      "\u001b[1m176/176\u001b[0m \u001b[32m━━━━━━━━━━━━━━━━━━━━\u001b[0m\u001b[37m\u001b[0m \u001b[1m642s\u001b[0m 4s/step - accuracy: 0.8203 - loss: 0.5087 - val_accuracy: 0.8561 - val_loss: 0.4245\n",
      "Epoch 6/10\n",
      "\u001b[1m176/176\u001b[0m \u001b[32m━━━━━━━━━━━━━━━━━━━━\u001b[0m\u001b[37m\u001b[0m \u001b[1m1134s\u001b[0m 6s/step - accuracy: 0.8396 - loss: 0.4663 - val_accuracy: 0.8615 - val_loss: 0.4126\n",
      "Epoch 7/10\n",
      "\u001b[1m176/176\u001b[0m \u001b[32m━━━━━━━━━━━━━━━━━━━━\u001b[0m\u001b[37m\u001b[0m \u001b[1m541s\u001b[0m 3s/step - accuracy: 0.8514 - loss: 0.4331 - val_accuracy: 0.8684 - val_loss: 0.3983\n",
      "Epoch 8/10\n",
      "\u001b[1m176/176\u001b[0m \u001b[32m━━━━━━━━━━━━━━━━━━━━\u001b[0m\u001b[37m\u001b[0m \u001b[1m501s\u001b[0m 3s/step - accuracy: 0.8467 - loss: 0.4218 - val_accuracy: 0.8658 - val_loss: 0.3893\n",
      "Epoch 9/10\n",
      "\u001b[1m176/176\u001b[0m \u001b[32m━━━━━━━━━━━━━━━━━━━━\u001b[0m\u001b[37m\u001b[0m \u001b[1m499s\u001b[0m 3s/step - accuracy: 0.8688 - loss: 0.3937 - val_accuracy: 0.8733 - val_loss: 0.3672\n",
      "Epoch 10/10\n",
      "\u001b[1m176/176\u001b[0m \u001b[32m━━━━━━━━━━━━━━━━━━━━\u001b[0m\u001b[37m\u001b[0m \u001b[1m531s\u001b[0m 3s/step - accuracy: 0.8551 - loss: 0.3921 - val_accuracy: 0.8717 - val_loss: 0.3756\n"
     ]
    }
   ],
   "source": [
    "#Train the VGG model \n",
    "vgg_history = vgg_model.fit(\n",
    "    train_gen,\n",
    "    epochs=10,\n",
    "    validation_data=test_gen,\n",
    "    callbacks=[EarlyStopping(monitor='val_accuracy', min_delta=0, patience=2, mode='auto')]\n",
    ")"
   ]
  },
  {
   "cell_type": "code",
   "execution_count": 10,
   "metadata": {},
   "outputs": [
    {
     "name": "stdout",
     "output_type": "stream",
     "text": [
      "CNN Test Accuracy: 85.35%\n",
      "ResNet Test Accuracy: 64.60%\n",
      "VGG Test Accuracy: 87.17%\n"
     ]
    }
   ],
   "source": [
    "#Compare and visualize results\n",
    "cnn_test_results = cnn_model.evaluate(test_gen, verbose=0)\n",
    "resnet_test_results = resnet_model.evaluate(test_gen,verbose=0)\n",
    "vgg_test_results = vgg_model.evaluate(test_gen, verbose=0)\n",
    "\n",
    "print(\"CNN Test Accuracy: {:.2f}%\".format(cnn_test_results[1]*100))\n",
    "print(\"ResNet Test Accuracy: {:.2f}%\".format(resnet_test_results[1]*100))\n",
    "print(\"VGG Test Accuracy: {:.2f}%\".format(vgg_test_results[1]*100))"
   ]
  },
  {
   "cell_type": "code",
   "execution_count": 11,
   "metadata": {},
   "outputs": [
    {
     "name": "stdout",
     "output_type": "stream",
     "text": [
      "The best model is VGG\n",
      "Best model Test Accuracy: 87.17%\n"
     ]
    }
   ],
   "source": [
    "#Choose best model\n",
    "best_model = None\n",
    "best_model_name = \"\"\n",
    "if cnn_test_results[1] >= resnet_test_results[1] and cnn_test_results[1] >= vgg_test_results[1]:\n",
    "    best_model = cnn_model\n",
    "    best_model_name = \"CNN\"\n",
    "elif resnet_test_results[1] >= vgg_test_results[1]:\n",
    "    best_model = resnet_model\n",
    "    best_model_name = \"ResNet\"\n",
    "else:\n",
    "    best_model = vgg_model\n",
    "    best_model_name = \"VGG\"\n",
    "\n",
    "\n",
    "print(f\"The best model is {best_model_name}\")\n",
    "\n",
    "best_test_results = best_model.evaluate(test_gen, verbose=0)\n",
    "print(\"Best model Test Accuracy: {:.2f}%\".format(best_test_results[1] * 100))"
   ]
  }
 ],
 "metadata": {
  "kernelspec": {
   "display_name": "Python 3",
   "language": "python",
   "name": "python3"
  },
  "language_info": {
   "codemirror_mode": {
    "name": "ipython",
    "version": 3
   },
   "file_extension": ".py",
   "mimetype": "text/x-python",
   "name": "python",
   "nbconvert_exporter": "python",
   "pygments_lexer": "ipython3",
   "version": "3.10.0"
  }
 },
 "nbformat": 4,
 "nbformat_minor": 2
}
